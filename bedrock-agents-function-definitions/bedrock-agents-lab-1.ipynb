{
 "cells": [
  {
   "cell_type": "code",
   "execution_count": 2,
   "metadata": {},
   "outputs": [
    {
     "name": "stdout",
     "output_type": "stream",
     "text": [
      "1.35.18\n"
     ]
    }
   ],
   "source": [
    "import boto3\n",
    "import json\n",
    "import time\n",
    "import zipfile\n",
    "import botocore\n",
    "from io import BytesIO\n",
    "import uuid\n",
    "import pprint\n",
    "import logging\n",
    "print(boto3.__version__)"
   ]
  },
  {
   "cell_type": "code",
   "execution_count": 3,
   "metadata": {},
   "outputs": [],
   "source": [
    "\n",
    "session = boto3.session.Session()\n",
    "\n",
    "region = session.region_name"
   ]
  },
  {
   "cell_type": "code",
   "execution_count": 4,
   "metadata": {},
   "outputs": [],
   "source": [
    "logging.basicConfig(format='[%(asctime)s] p%(process)s {%(filename)s:%(lineno)d} %(levelname)s - %(message)s', level=logging.INFO)\n",
    "logger = logging.getLogger(__name__)"
   ]
  },
  {
   "cell_type": "code",
   "execution_count": 5,
   "metadata": {},
   "outputs": [],
   "source": [
    "sts_client = session.client('sts')\n",
    "iam_client = session.client('iam')\n",
    "s3_client = session.client('s3')\n",
    "lambda_client = session.client('lambda', region_name='us-east-1')\n",
    "bedrock_agent_client = session.client('bedrock-agent', region_name='us-east-1')\n",
    "bedrock_agent_runtime_client = session.client('bedrock-agent-runtime', region_name='us-east-1')"
   ]
  },
  {
   "cell_type": "code",
   "execution_count": 6,
   "metadata": {},
   "outputs": [
    {
     "name": "stdout",
     "output_type": "stream",
     "text": [
      "ammarindopakwars, b-a-sd1-us-east-1-452982853365, banking-assistant1q11-rt-us-east-1-452982853365, banking-assistant1q11-us-east-1-452982853365, bedrock-docs-kb-agents-saba-us-east-1-452982853365, bedrock-docs-kb-agents-us-east-1-452982853365, booking-agent-sh-us-east-1-452982853365-sh, booking-agent-us-east-1-452982853365, danish-booking-agent-us-east-1-danish, danish-sagemaker-1, ha-banking-assistant-us-east-1-452982853365-lab08, ha-banking-assistant1q11-us-east-1-452982853365, ha-banking-assistant1q11-us-east-1-452982853365-lab08, ha-bedrock-docs-kb-agents-us-east-1-452982853365, ha-booking-agent-us-east-1-452982853365, ha-insurance-claims-agent-us-east-1-452982853365, ha-text-2-sql-agent-lab09-us-east-1-452982853365, ha-text-t-sql-agent-lab09-us-east-1-452982853365, ham-text-t-sql-agent-lab09-us-east-1-452982853365, image-generation-service--serverlessdeploymentbuck-ihc2jso9iyga, image-generation01, insurance-claims-agent-us-east-1-452982853365, irfan-insurance-claims-agent-us-east-1-452982853365, irfan-insurance-claims-agent-us-east-1-452982853365-i, irfan-insurance-claims-agent-us-east-1-452982853365-irf, is-banking-lab8-nf-us-east-1-452982853365-ia, is-booking-agent-us-east-1-452982853365-i, kd-booking-agent-us-east-1-452982853365, khalil-hr-policy-bucket, m-insurance-claims-agent-us-east-1-452982853365, muneeb-lab8-us-east-1-452982853365, muneebbooking-agent-us-east-1-452982853365, muneeblab-4-us-east-1-452982853365, nbs-genai-insurance-claims-agent-us-east-1-452982853365, nbs-genai-kb-agents, nbs-genai-kb-agents-us-east-1-452982853365, restaurant-task2, resturant-saba, saad-docs-kb-agents-us-east-1-452982853365-fea1, saad-docs-kb-agents-us-east-1-452982853365-rye1, saad-docs-kb-agents-us-east-1-452982853365-sd, saad-docs-kb-agents-us-east-1-452982853365-sfd1, saad-ins-clm-us-east-1-452982853365, sagemaker-studio-452982853365-9ybfwdx7hv, sagemaker-studio-452982853365-bvfbihtkpdd, sagemaker-studio-452982853365-dzalog1nyla, sagemaker-us-east-1-452982853365, sagemaker-us-east-2-452982853365, salmangenai, t-banking-assistant11-us-east-1-452982853365, t-banking-assistant1q11-us-east-1-452982853365, t-text-2-sql-agent-us-east-1-452982853365, tab-text-2-sql-agent-us-east-1-452982853365, tai-text-2-sql-agent-us-east-1-452982853365, tay-text-2-sql-agent-us-east-1-452982853365, text-2-sql-agent-us-east-1-452982853365\n"
     ]
    }
   ],
   "source": [
    "list_buckets_response = s3_client.list_buckets()[\"Buckets\"]\n",
    "bucket_names = \", \".join(list(map(lambda bucket: bucket[\"Name\"], list_buckets_response)))\n",
    "\n",
    "print(bucket_names)"
   ]
  },
  {
   "cell_type": "code",
   "execution_count": 7,
   "metadata": {},
   "outputs": [
    {
     "data": {
      "text/plain": [
       "'452982853365'"
      ]
     },
     "execution_count": 7,
     "metadata": {},
     "output_type": "execute_result"
    }
   ],
   "source": [
    "account_id = sts_client.get_caller_identity()[\"Account\"]\n",
    "account_id"
   ]
  },
  {
   "cell_type": "code",
   "execution_count": 8,
   "metadata": {},
   "outputs": [],
   "source": [
    "# configuration variables\n",
    "prefix = \"RT\"\n",
    "suffix = f\"{prefix}-{region}-{account_id}\"\n",
    "agent_name = f\"{prefix}-hr-assistant-func-def\"\n",
    "agent_bedrock_allow_policy_name = f\"{agent_name}-ba-{suffix}\"\n",
    "agent_role_name = f'{prefix}-AmazonBedrockExecutionRoleForAgents_{agent_name}'\n",
    "agent_foundation_model = f\"anthropic.claude-3-sonnet-20240229-v1:0\"\n",
    "agent_description = f\"{prefix}-Agent for providing HR assistance to manage vacation time\"\n",
    "agent_instruction = f\"You are an {prefix}-HR agent, helping employees understand HR policies and manage vacation time\"\n",
    "agent_action_group_name = f\"{prefix}-VacationsActionGroup\"\n",
    "agent_action_group_description = f\"Actions for getting the number of available vactions days for an employee and confirm new time off\"\n",
    "agent_alias_name = f\"{agent_name}-alias\"\n",
    "lambda_function_role = f'{agent_name}-lambda-role-{suffix}'\n",
    "lambda_function_name = f'{agent_name}-{suffix}'"
   ]
  },
  {
   "cell_type": "code",
   "execution_count": 9,
   "metadata": {},
   "outputs": [],
   "source": [
    "import sqlite3\n",
    "import random\n",
    "from datetime import date, timedelta"
   ]
  },
  {
   "cell_type": "code",
   "execution_count": 11,
   "metadata": {},
   "outputs": [],
   "source": [
    "conn = sqlite3.connect('employee_database.db')\n",
    "c = conn.cursor()\n",
    "\n",
    "# Create the employees table\n",
    "c.execute('''CREATE TABLE IF NOT EXISTS employees\n",
    "                (employee_id INTEGER PRIMARY KEY AUTOINCREMENT, employee_name TEXT, employee_job_title TEXT, employee_start_date TEXT, employee_employment_status TEXT)''')\n",
    "\n",
    "# Create the vacations table\n",
    "c.execute('''CREATE TABLE IF NOT EXISTS vacations\n",
    "                (employee_id INTEGER, year INTEGER, employee_total_vacation_days INTEGER, employee_vacation_days_taken INTEGER, employee_vacation_days_available INTEGER, FOREIGN KEY(employee_id) REFERENCES employees(employee_id))''')\n",
    "\n",
    "# Create the planned_vacations table\n",
    "c.execute('''CREATE TABLE IF NOT EXISTS planned_vacations\n",
    "                (employee_id INTEGER, vacation_start_date TEXT, vacation_end_date TEXT, vacation_days_taken INTEGER, FOREIGN KEY(employee_id) REFERENCES employees(employee_id))''')\n",
    "\n",
    "# Generate some random data for 10 employees\n",
    "employee_names = ['John Doe', 'Jane Smith', 'Bob Johnson', 'Alice Williams', 'Tom Brown', 'Emily Davis', 'Michael Wilson', 'Sarah Taylor', 'David Anderson', 'Jessica Thompson']\n",
    "job_titles = ['Manager', 'Developer', 'Designer', 'Analyst', 'Accountant', 'Sales Representative']\n",
    "employment_statuses = ['Active', 'Inactive']\n"
   ]
  },
  {
   "cell_type": "code",
   "execution_count": 12,
   "metadata": {},
   "outputs": [],
   "source": [
    "for i in range(10):\n",
    "    name = employee_names[i]\n",
    "    job_title = random.choice(job_titles)\n",
    "    start_date = date(2015 + random.randint(0, 7), random.randint(1, 12), random.randint(1, 28)).strftime('%Y-%m-%d')\n",
    "    employment_status = random.choice(employment_statuses)\n",
    "    c.execute(\"INSERT INTO employees (employee_name, employee_job_title, employee_start_date, employee_employment_status) VALUES (?, ?, ?, ?)\", (name, job_title, start_date, employment_status))\n",
    "    employee_id = c.lastrowid\n",
    "\n",
    "     # Generate vacation data for the current employee\n",
    "    for year in range(date.today().year, date.today().year - 3, -1):\n",
    "        total_vacation_days = random.randint(10, 30)\n",
    "        days_taken = random.randint(0, total_vacation_days)\n",
    "        days_available = total_vacation_days - days_taken\n",
    "        c.execute(\"INSERT INTO vacations (employee_id, year, employee_total_vacation_days, employee_vacation_days_taken, employee_vacation_days_available) VALUES (?, ?, ?, ?, ?)\", (employee_id, year, total_vacation_days, days_taken, days_available))\n",
    "\n",
    "        # Generate some planned vacations for the current employee and year\n",
    "        num_planned_vacations = random.randint(0, 3)\n",
    "        for _ in range(num_planned_vacations):\n",
    "            start_date = date(year, random.randint(1, 12), random.randint(1, 28)).strftime('%Y-%m-%d')\n",
    "            end_date = (date(int(start_date[:4]), int(start_date[5:7]), int(start_date[8:])) + timedelta(days=random.randint(1, 14))).strftime('%Y-%m-%d')\n",
    "            days_taken = (date(int(end_date[:4]), int(end_date[5:7]), int(end_date[8:])) - date(int(start_date[:4]), int(start_date[5:7]), int(start_date[8:])))\n",
    "            c.execute(\"INSERT INTO planned_vacations (employee_id, vacation_start_date, vacation_end_date, vacation_days_taken) VALUES (?, ?, ?, ?)\", (employee_id, start_date, end_date, days_taken.days))\n",
    "\n",
    "# Commit the changes and close the connection\n",
    "conn.commit()\n",
    "conn.close()\n",
    "\n",
    "\n"
   ]
  },
  {
   "cell_type": "code",
   "execution_count": 13,
   "metadata": {},
   "outputs": [
    {
     "name": "stdout",
     "output_type": "stream",
     "text": [
      "Overwriting RT_lambda_function.py\n"
     ]
    }
   ],
   "source": [
    "%%writefile RT_lambda_function.py\n",
    "import os\n",
    "import json\n",
    "import shutil\n",
    "import sqlite3\n",
    "from datetime import datetime\n",
    "\n",
    "def get_available_vacations_days(employee_id):\n",
    "    # Connect to the SQLite database\n",
    "    conn = sqlite3.connect('/tmp/employee_database.db')\n",
    "    c = conn.cursor()\n",
    "\n",
    "    if employee_id:\n",
    "\n",
    "        # Fetch the available vacation days for the employee\n",
    "        c.execute(\"\"\"\n",
    "            SELECT employee_vacation_days_available\n",
    "            FROM vacations\n",
    "            WHERE employee_id = ?\n",
    "            ORDER BY year DESC\n",
    "            LIMIT 1\n",
    "        \"\"\", (employee_id,))\n",
    "\n",
    "        available_vacation_days = c.fetchone()\n",
    "\n",
    "        if available_vacation_days:\n",
    "            available_vacation_days = available_vacation_days[0]  # Unpack the tuple\n",
    "            print(f\"Available vacation days for employed_id {employee_id}: {available_vacation_days}\")\n",
    "            conn.close()\n",
    "            return available_vacation_days\n",
    "        else:\n",
    "            return_msg = f\"No vacation data found for employed_id {employee_id}\"\n",
    "            print(return_msg)\n",
    "            return return_msg\n",
    "            conn.close()\n",
    "    else:\n",
    "        raise Exception(f\"No employeed id provided\")\n",
    "\n",
    "    # Close the database connection\n",
    "    conn.close()\n",
    "    \n",
    "    \n",
    "def reserve_vacation_time(employee_id, start_date, end_date):\n",
    "    # Connect to the SQLite database\n",
    "\n",
    "    conn = sqlite3.connect('/tmp/employee_database.db')\n",
    "    c = conn.cursor()\n",
    "    try:\n",
    "        # Calculate the number of vacation days\n",
    "        start_date = datetime.strptime(start_date, '%Y-%m-%d')\n",
    "        end_date = datetime.strptime(end_date, '%Y-%m-%d')\n",
    "        vacation_days = (end_date - start_date).days + 1\n",
    "\n",
    "        # Get the current year\n",
    "        current_year = start_date.year\n",
    "\n",
    "        # Check if the employee exists\n",
    "        c.execute(\"SELECT * FROM employees WHERE employee_id = ?\", (employee_id,))\n",
    "        employee = c.fetchone()\n",
    "        if employee is None:\n",
    "            return_msg = f\"Employee with ID {employee_id} does not exist.\"\n",
    "            print(return_msg)\n",
    "            conn.close()\n",
    "            return return_msg\n",
    "\n",
    "        # Check if the vacation days are available for the employee in the current year\n",
    "        c.execute(\"SELECT employee_vacation_days_available FROM vacations WHERE employee_id = ? AND year = ?\", (employee_id, current_year))\n",
    "        available_days = c.fetchone()\n",
    "        if available_days is None or available_days[0] < vacation_days:\n",
    "            return_msg = f\"Employee with ID {employee_id} does not have enough vacation days available for the requested period.\"\n",
    "            print(return_msg)\n",
    "            conn.close()\n",
    "            return return_msg\n",
    "\n",
    "        # Insert the new vacation into the planned_vacations table\n",
    "        c.execute(\"INSERT INTO planned_vacations (employee_id, vacation_start_date, vacation_end_date, vacation_days_taken) VALUES (?, ?, ?, ?)\", (employee_id, start_date, end_date, vacation_days))\n",
    "\n",
    "        # Update the vacations table with the new vacation days taken\n",
    "        c.execute(\"UPDATE vacations SET employee_vacation_days_taken = employee_vacation_days_taken + ?, employee_vacation_days_available = employee_vacation_days_available - ? WHERE employee_id = ? AND year = ?\", (vacation_days, vacation_days, employee_id, current_year))\n",
    "\n",
    "        conn.commit()\n",
    "        print(f\"Vacation saved successfully for employee with ID {employee_id} from {start_date} to {end_date}.\")\n",
    "        # Close the database connection\n",
    "        conn.close()\n",
    "        return f\"Vacation saved successfully for employee with ID {employee_id} from {start_date} to {end_date}.\"\n",
    "    except Exception as e:\n",
    "        raise Exception(f\"Error occurred: {e}\")\n",
    "        conn.rollback()\n",
    "        # Close the database connection\n",
    "        conn.close()\n",
    "        return f\"Error occurred: {e}\"\n",
    "    \n",
    "\n",
    "def lambda_handler(event, context):\n",
    "    original_db_file = 'employee_database.db'\n",
    "    target_db_file = '/tmp/employee_database.db'\n",
    "    if not os.path.exists(target_db_file):\n",
    "        shutil.copy2(original_db_file, target_db_file)\n",
    "\n",
    "    agent = event['agent']\n",
    "    actionGroup = event['actionGroup']\n",
    "    function = event['function']\n",
    "    parameters = event.get('parameters', [])\n",
    "\n",
    "    responseBody =  {\n",
    "        \"TEXT\": {\n",
    "            \"body\": \"Error, no function was called\"\n",
    "        }\n",
    "    }\n",
    "\n",
    "    if function == 'get_available_vacations_days':\n",
    "        employee_id = None\n",
    "        for param in parameters:\n",
    "            if param[\"name\"] == \"employee_id\":\n",
    "                employee_id = param[\"value\"]\n",
    "\n",
    "        if not employee_id:\n",
    "            raise Exception(\"Missing mandatory parameter: employee_id\")\n",
    "        vacation_days = get_available_vacations_days(employee_id)\n",
    "        responseBody =  {\n",
    "            'TEXT': {\n",
    "                \"body\": f\"available vacation days for employed_id {employee_id}: {vacation_days}\"\n",
    "            }\n",
    "        }\n",
    "\n",
    "    elif function == 'reserve_vacation_time':\n",
    "        employee_id = None\n",
    "        start_date = None\n",
    "        end_date = None\n",
    "        for param in parameters:\n",
    "            if param[\"name\"] == \"employee_id\":\n",
    "                employee_id = param[\"value\"]\n",
    "            if param[\"name\"] == \"start_date\":\n",
    "                start_date = param[\"value\"]\n",
    "            if param[\"name\"] == \"end_date\":\n",
    "                end_date = param[\"value\"]\n",
    "            \n",
    "        if not employee_id:\n",
    "            raise Exception(\"Missing mandatory parameter: employee_id\")\n",
    "        if not start_date:\n",
    "            raise Exception(\"Missing mandatory parameter: start_date\")\n",
    "        if not end_date:\n",
    "            raise Exception(\"Missing mandatory parameter: end_date\")\n",
    "        \n",
    "        completion_message = reserve_vacation_time(employee_id, start_date, end_date)\n",
    "        responseBody =  {\n",
    "            'TEXT': {\n",
    "                \"body\": completion_message\n",
    "            }\n",
    "        }  \n",
    "\n",
    "\n",
    "\n",
    "    action_response = {\n",
    "        'actionGroup': actionGroup,\n",
    "        'function': function,\n",
    "        'functionResponse' : {\n",
    "            'responseBody' :  responseBody\n",
    "        }\n",
    "    }\n",
    "\n",
    "    function_response = {'response': action_response, 'messageVersion': event['messageVersion']}\n",
    "    print(\"Response: {}\".format(function_response))\n",
    "\n",
    "    return function_response\n",
    "\n",
    "\n"
   ]
  },
  {
   "cell_type": "code",
   "execution_count": 14,
   "metadata": {},
   "outputs": [
    {
     "data": {
      "text/plain": [
       "{'ResponseMetadata': {'RequestId': 'a932995f-b844-4003-a815-fcb3355bb122',\n",
       "  'HTTPStatusCode': 200,\n",
       "  'HTTPHeaders': {'date': 'Mon, 16 Sep 2024 22:33:35 GMT',\n",
       "   'x-amzn-requestid': 'a932995f-b844-4003-a815-fcb3355bb122',\n",
       "   'content-type': 'text/xml',\n",
       "   'content-length': '212'},\n",
       "  'RetryAttempts': 0}}"
      ]
     },
     "execution_count": 14,
     "metadata": {},
     "output_type": "execute_result"
    }
   ],
   "source": [
    "# Create IAM Role for the Lambda function\n",
    "try:\n",
    "    assume_role_policy_document = {\n",
    "        \"Version\": \"2012-10-17\",\n",
    "        \"Statement\": [\n",
    "            {\n",
    "                \"Effect\": \"Allow\",\n",
    "                \"Action\": \"bedrock:InvokeModel\",\n",
    "                \"Principal\": {\n",
    "                    \"Service\": \"lambda.amazonaws.com\"\n",
    "                },\n",
    "                \"Action\": \"sts:AssumeRole\"\n",
    "            }\n",
    "        ]\n",
    "    }\n",
    "\n",
    "    assume_role_policy_document_json = json.dumps(assume_role_policy_document)\n",
    "\n",
    "    lambda_iam_role = iam_client.create_role(\n",
    "        RoleName = lambda_function_role,\n",
    "        AssumeRolePolicyDocument=assume_role_policy_document_json\n",
    "    )\n",
    "\n",
    "    # Pause to make sure role is created\n",
    "    time.sleep(10)\n",
    "except:\n",
    "    lambda_iam_role = iam_client.get_role(RoleName=lambda_function_role)\n",
    "\n",
    "iam_client.attach_role_policy(\n",
    "    RoleName=lambda_function_role,\n",
    "    PolicyArn='arn:aws:iam::aws:policy/service-role/AWSLambdaBasicExecutionRole'\n",
    ")"
   ]
  },
  {
   "cell_type": "code",
   "execution_count": 30,
   "metadata": {},
   "outputs": [
    {
     "name": "stdout",
     "output_type": "stream",
     "text": [
      "Lambda function: 'RT-hr-assistant-func-def-RT-us-east-1-452982853365 having ARN: arn:aws:lambda:us-east-1:452982853365:function:RT-hr-assistant-func-def-RT-us-east-1-452982853365' already exists.\n"
     ]
    }
   ],
   "source": [
    "s = BytesIO()\n",
    "z = zipfile.ZipFile(s, 'w')\n",
    "z.write(\"lambda_function.py\")\n",
    "z.write(\"employee_database.db\")\n",
    "z.close()\n",
    "zip_content = s.getvalue()\n",
    "\n",
    "# Create Lambda Function\n",
    "\n",
    "lambdaARN = None\n",
    "try:\n",
    "    # Try to get the Lambda function\n",
    "    lambda_function = lambda_client.get_function(FunctionName=lambda_function_name)\n",
    "\n",
    "    if lambda_function is not None:\n",
    "        lambdaARN = lambda_function['Configuration']['FunctionArn']\n",
    "        \n",
    "    print(f\"Lambda function: '{lambda_function_name} having ARN: {lambdaARN}' already exists.\")\n",
    "except botocore.exceptions.ClientError as error:\n",
    "    # Check if the exception is because the function doesn't exist\n",
    "    if error.response['Error']['Code'] == 'ResourceNotFoundException':\n",
    "        print(f\"Lambda function '{lambda_function_name}' not found. Creating it now...\")\n",
    "        \n",
    "        # Create the Lambda function if it does not exist\n",
    "        lambda_function = lambda_client.create_function(\n",
    "            FunctionName=lambda_function_name,\n",
    "            Runtime='python3.12',\n",
    "            Timeout=180,\n",
    "            Role=lambda_iam_role['Role']['Arn'],\n",
    "            Code={'ZipFile': zip_content},\n",
    "            Handler='lambda_function.lambda_handler'\n",
    "        )\n",
    "\n",
    "        lambdaARN = lambda_function['FunctionArn']\n",
    "\n",
    "        print(f\"Lambda function '{lambda_function_name}' created successfully.\")\n",
    "    else:\n",
    "        # If there's another error, raise it\n",
    "        raise"
   ]
  },
  {
   "cell_type": "code",
   "execution_count": 16,
   "metadata": {},
   "outputs": [
    {
     "name": "stdout",
     "output_type": "stream",
     "text": [
      "IAM Policy 'RT-hr-assistant-func-def-ba-RT-us-east-1-452982853365' already exists with ARN: arn:aws:iam::452982853365:policy/RT-hr-assistant-func-def-ba-RT-us-east-1-452982853365\n"
     ]
    },
    {
     "data": {
      "text/plain": [
       "{'PolicyName': 'RT-hr-assistant-func-def-ba-RT-us-east-1-452982853365',\n",
       " 'PolicyId': 'ANPAWS57BZ32RJC52PNW4',\n",
       " 'Arn': 'arn:aws:iam::452982853365:policy/RT-hr-assistant-func-def-ba-RT-us-east-1-452982853365',\n",
       " 'Path': '/',\n",
       " 'DefaultVersionId': 'v2',\n",
       " 'AttachmentCount': 1,\n",
       " 'PermissionsBoundaryUsageCount': 0,\n",
       " 'IsAttachable': True,\n",
       " 'CreateDate': datetime.datetime(2024, 9, 15, 0, 34, 3, tzinfo=tzutc()),\n",
       " 'UpdateDate': datetime.datetime(2024, 9, 15, 1, 36, 25, tzinfo=tzutc())}"
      ]
     },
     "execution_count": 16,
     "metadata": {},
     "output_type": "execute_result"
    }
   ],
   "source": [
    "agent_bedrock_policy = None\n",
    "\n",
    "try:\n",
    "    # List policies to check if the policy exists\n",
    "    existing_policies=[]\n",
    "    hasMorePolicies = True\n",
    "    marker = ''\n",
    "    while(hasMorePolicies):\n",
    "        response = {}\n",
    "        if len(marker) > 0:\n",
    "            response = iam_client.list_policies(Scope='Local', Marker=marker)\n",
    "        else:\n",
    "            response = iam_client.list_policies(Scope='Local')\n",
    "\n",
    "        existing_policies.extend(response['Policies'])\n",
    "        \n",
    "        # Check if more pages are available\n",
    "        if not response.get('IsTruncated'):\n",
    "            hasMorePolicies = False\n",
    "        else:\n",
    "            marker = response['Marker']\n",
    "                   \n",
    "    for policy in existing_policies:\n",
    "        if policy['PolicyName'] == agent_bedrock_allow_policy_name:\n",
    "            agent_bedrock_policy = policy\n",
    "            break\n",
    "\n",
    "    \n",
    "    if agent_bedrock_policy is not None:\n",
    "        print(f\"IAM Policy '{agent_bedrock_allow_policy_name}' already exists with ARN: {agent_bedrock_policy['Arn']}\")\n",
    "    else:\n",
    "        # If policy does not exist, create it\n",
    "        print(f\"IAM Policy '{agent_bedrock_allow_policy_name}' not found. Creating it now...\")\n",
    "        \n",
    "        # Create IAM policies for agent\n",
    "        bedrock_agent_bedrock_allow_policy_statement = {\n",
    "            \"Version\": \"2012-10-17\",\n",
    "            \"Statement\": [\n",
    "                {\n",
    "                    \"Sid\": \"AmazonBedrockAgentBedrockFoundationModelPolicy\",\n",
    "                    \"Effect\": \"Allow\",\n",
    "                    \"Action\": \"bedrock:InvokeModel\",\n",
    "                    \"Resource\": [\n",
    "                        f\"arn:aws:bedrock:{region}::foundation-model/{agent_foundation_model}\"\n",
    "                    ]\n",
    "                }\n",
    "            ]\n",
    "        }\n",
    "\n",
    "        bedrock_policy_json = json.dumps(bedrock_agent_bedrock_allow_policy_statement)\n",
    "        \n",
    "        agent_bedrock_policy = iam_client.create_policy(\n",
    "            PolicyName=agent_bedrock_allow_policy_name,\n",
    "            PolicyDocument=bedrock_policy_json\n",
    "        )\n",
    "        \n",
    "\n",
    "except botocore.exceptions.ClientError as error:\n",
    "    print(f\"An error occurred: {error}\")\n",
    "\n",
    "agent_bedrock_policy"
   ]
  },
  {
   "cell_type": "code",
   "execution_count": 17,
   "metadata": {},
   "outputs": [
    {
     "name": "stdout",
     "output_type": "stream",
     "text": [
      "Agent Role- 'RT-AmazonBedrockExecutionRoleForAgents_RT-hr-assistant-func-def' already exists.\n"
     ]
    },
    {
     "data": {
      "text/plain": [
       "{'Role': {'Path': '/',\n",
       "  'RoleName': 'RT-AmazonBedrockExecutionRoleForAgents_RT-hr-assistant-func-def',\n",
       "  'RoleId': 'AROAWS57BZ327F3Q7ZQMW',\n",
       "  'Arn': 'arn:aws:iam::452982853365:role/RT-AmazonBedrockExecutionRoleForAgents_RT-hr-assistant-func-def',\n",
       "  'CreateDate': datetime.datetime(2024, 9, 15, 0, 34, 47, tzinfo=tzutc()),\n",
       "  'AssumeRolePolicyDocument': {'Version': '2012-10-17',\n",
       "   'Statement': [{'Effect': 'Allow',\n",
       "     'Principal': {'Service': 'bedrock.amazonaws.com'},\n",
       "     'Action': 'sts:AssumeRole'}]},\n",
       "  'MaxSessionDuration': 3600,\n",
       "  'RoleLastUsed': {'LastUsedDate': datetime.datetime(2024, 9, 15, 1, 38, 20, tzinfo=tzutc()),\n",
       "   'Region': 'us-east-1'}},\n",
       " 'ResponseMetadata': {'RequestId': '2ae9476a-e0b9-4e7c-a51b-13f5b176f630',\n",
       "  'HTTPStatusCode': 200,\n",
       "  'HTTPHeaders': {'date': 'Mon, 16 Sep 2024 22:33:45 GMT',\n",
       "   'x-amzn-requestid': '2ae9476a-e0b9-4e7c-a51b-13f5b176f630',\n",
       "   'content-type': 'text/xml',\n",
       "   'content-length': '1030'},\n",
       "  'RetryAttempts': 0}}"
      ]
     },
     "execution_count": 17,
     "metadata": {},
     "output_type": "execute_result"
    }
   ],
   "source": [
    "# Create IAM Role for the agent and attach IAM policies\n",
    "assume_role_policy_document = {\n",
    "    \"Version\": \"2012-10-17\",\n",
    "    \"Statement\": [{\n",
    "          \"Effect\": \"Allow\",\n",
    "          \"Principal\": {\n",
    "            \"Service\": \"bedrock.amazonaws.com\"\n",
    "          },\n",
    "          \"Action\": \"sts:AssumeRole\"\n",
    "    }]\n",
    "}\n",
    "\n",
    "agent_role = None\n",
    "\n",
    "try:\n",
    "    \n",
    "    agent_role = iam_client.get_role(RoleName=agent_role_name)\n",
    "    print(f\"Agent Role- '{agent_role_name}' already exists.\")\n",
    "\n",
    "except botocore.exceptions.ClientError as error:\n",
    "    print(f\"Agent Role- '{agent_role_name}' NOT found. Creating a new agent Role.\")\n",
    "    assume_role_policy_document_json = json.dumps(assume_role_policy_document)\n",
    "    agent_role = iam_client.create_role(\n",
    "        RoleName=agent_role_name,\n",
    "        AssumeRolePolicyDocument=assume_role_policy_document_json\n",
    "    )\n",
    "\n",
    "    # Pause to make sure role is created\n",
    "    time.sleep(10)\n",
    "    \n",
    "iam_client.attach_role_policy(\n",
    "    RoleName=agent_role_name,\n",
    "    PolicyArn=agent_bedrock_policy['Arn']\n",
    ")\n",
    "\n",
    "agent_role"
   ]
  },
  {
   "cell_type": "code",
   "execution_count": 23,
   "metadata": {},
   "outputs": [
    {
     "name": "stdout",
     "output_type": "stream",
     "text": [
      "An RT Agent- RT-hr-assistant-func-def already exists\n"
     ]
    }
   ],
   "source": [
    "\n",
    "agent_id = None\n",
    "rtAgent = None\n",
    "try:\n",
    "\n",
    "    agents = []\n",
    "    response = None\n",
    "    nextToken = 'first'\n",
    "    while len(nextToken) > 0:\n",
    "\n",
    "        if nextToken == 'first':\n",
    "          response   = bedrock_agent_client.list_agents()\n",
    "        else:\n",
    "           response   = bedrock_agent_client.list_agents(nextToken=nextToken)\n",
    "\n",
    "        if 'agentSummaries' in response: \n",
    "            agents.extend(response['agentSummaries'])\n",
    "        \n",
    "        if 'nextToken' in response and len(response['nextToken']) > 0:\n",
    "            nextToken = response['nextToken']\n",
    "        else:\n",
    "           nextToken = ''\n",
    "          \n",
    "\n",
    "    agentSummary = None\n",
    "    for agent in agents:\n",
    "       if agent['agentName'] == agent_name:\n",
    "          agentSummary = agent\n",
    "          break\n",
    "          \n",
    "    \n",
    "    if agentSummary is not None:   \n",
    "        print(f\"An RT Agent- {agentSummary['agentName']} already exists\")\n",
    "\n",
    "    else:\n",
    "        rtAgent = bedrock_agent_client.create_agent(\n",
    "            agentName=agent_name,\n",
    "            agentResourceRoleArn=agent_role['Role']['Arn'],\n",
    "            description=agent_description,\n",
    "            idleSessionTTLInSeconds=1800,\n",
    "            foundationModel=agent_foundation_model,\n",
    "            instruction=agent_instruction)\n",
    "\n",
    "    agent_id = agentSummary['agentId']\n",
    "\n",
    "except botocore.exceptions.ClientError as Error:\n",
    "   print(f\"An error occurred: {error}\")"
   ]
  },
  {
   "cell_type": "code",
   "execution_count": 25,
   "metadata": {},
   "outputs": [
    {
     "data": {
      "text/plain": [
       "'GDW42A7TH2'"
      ]
     },
     "execution_count": 25,
     "metadata": {},
     "output_type": "execute_result"
    }
   ],
   "source": [
    "\n",
    "agent_id"
   ]
  },
  {
   "cell_type": "code",
   "execution_count": 26,
   "metadata": {},
   "outputs": [],
   "source": [
    "agent_functions = [\n",
    "    {\n",
    "        'name' : 'get_available_vacations_days',\n",
    "        'description': 'get the number of vacations available for a certain employee',\n",
    "        'parameters': {\n",
    "            'employee_id' : {\n",
    "                'description' : 'the id of the employee to get the available vacations',\n",
    "                'required': True,\n",
    "                'type': 'integer'\n",
    "            }  \n",
    "        }\n",
    "    },\n",
    "\n",
    "    {\n",
    "        'name' : 'reserve_vacation_time',\n",
    "        'description': 'reserve vacation time for a specific employee - you need all parameters to reserve vacation time',\n",
    "        'parameters': {\n",
    "            'employee_id' : {\n",
    "                'description' : 'the id of the employee to get the available vacations',\n",
    "                'required': True,\n",
    "                'type': 'integer'\n",
    "            },\n",
    "            'start_date' : {\n",
    "                'description' : 'the start date for the vacation time',\n",
    "                'required': True,\n",
    "                'type': 'string'\n",
    "            },\n",
    "            'end_date' : {\n",
    "                'description' : 'the end date for the vacation time',\n",
    "                'required': True,\n",
    "                'type': 'string'\n",
    "            } \n",
    "\n",
    "        }\n",
    "    },\n",
    "]"
   ]
  },
  {
   "cell_type": "code",
   "execution_count": 63,
   "metadata": {},
   "outputs": [
    {
     "name": "stdout",
     "output_type": "stream",
     "text": [
      "An RT Agent- RT-VacationsActionGroup already exists\n"
     ]
    }
   ],
   "source": [
    "agent_action_group_response = None\n",
    "rtAgentActionGroupId = None\n",
    "rtAgentActionGroup = None\n",
    "rtAgentActionGroupName = None\n",
    "try:\n",
    "\n",
    "    actionGroups = []\n",
    "    response = None\n",
    "    nextToken = 'first'\n",
    "    while len(nextToken) > 0:\n",
    "\n",
    "        if nextToken == 'first':\n",
    "          response   = bedrock_agent_client.list_agent_action_groups(agentId=agent_id, agentVersion = 'DRAFT')\n",
    "        else:\n",
    "           response   = bedrock_agent_client.list_agent_action_groups(agentId=agent_id, agentVersion = 'DRAFT', nextToken=nextToken)\n",
    "\n",
    "        if 'actionGroupSummaries' in response: \n",
    "            actionGroups.extend(response['actionGroupSummaries'])\n",
    "        \n",
    "        if 'nextToken' in response and len(response['nextToken']) > 0:\n",
    "            nextToken = response['nextToken']\n",
    "        else:\n",
    "           nextToken = ''\n",
    "          \n",
    "    for actionGroup in actionGroups:\n",
    "       if actionGroup['actionGroupName'] == agent_action_group_name:\n",
    "          rtAgentActionGroup = actionGroup\n",
    "          break\n",
    "          \n",
    "    \n",
    "    if rtAgentActionGroup is not None:   \n",
    "        print(f\"An RT Agent- {rtAgentActionGroup['actionGroupName']} already exists\")\n",
    "        rtAgentActionGroupId = rtAgentActionGroup['actionGroupId']\n",
    "\n",
    "    else:\n",
    "        agent_action_group_response = bedrock_agent_client.create_agent_action_group(\n",
    "            agentId = agent_id,\n",
    "            agentVersion = 'DRAFT',\n",
    "            actionGroupExecutor = {\n",
    "                'lambda': lambdaARN\n",
    "            },\n",
    "            actionGroupName = agent_action_group_name,\n",
    "            functionSchema={\n",
    "                'functions': agent_functions\n",
    "            },\n",
    "            description = agent_action_group_description\n",
    "        )\n",
    "\n",
    "        rtAgentActionGroup = agent_action_group_response['agentActionGroup']\n",
    "\n",
    "except botocore.exceptions.ClientError as Error:\n",
    "   print(f\"An error occurred: {error}\")\n",
    "    \n"
   ]
  },
  {
   "cell_type": "code",
   "execution_count": 38,
   "metadata": {},
   "outputs": [
    {
     "name": "stdout",
     "output_type": "stream",
     "text": [
      "Permission with StatementId 'allow_bedrock' already exists.\n"
     ]
    }
   ],
   "source": [
    "try:\n",
    "\n",
    "    statementId= 'allow_bedrock'\n",
    "    response = lambda_client.get_policy(FunctionName=lambda_function_name)\n",
    "    policy = json.loads(response['Policy'])\n",
    "\n",
    "    # Check if the specific permission already exists\n",
    "    policyExist = False\n",
    "    for statement in policy['Statement']:\n",
    "        if statement['Sid'] == statementId:\n",
    "            print(f\"Permission with StatementId '{statementId}' already exists.\")\n",
    "            policyExist = True\n",
    "            break\n",
    "\n",
    "    if not policyExist:\n",
    "        response = lambda_client.add_permission(\n",
    "                FunctionName= lambda_function_name,\n",
    "                StatementId= 'allow_bedrock',\n",
    "                Action='lambda:InvokeFunction',\n",
    "                Principal='bedrock.amazonaws.com',\n",
    "                SourceArn=f\"arn:aws:bedrock:{region}:{account_id}:agent/{agent_id}\",\n",
    "            )\n",
    "        \n",
    "        print(f\"Permission added: {response}\")\n",
    "        \n",
    "except botocore.exceptions.ClientError as error:\n",
    "    if error.response['Error']['Code'] == 'ResourceNotFoundException':\n",
    "        print(f\"No policy found for function {lambda_function_name}. Proceeding to add permission.\")\n",
    "    else:\n",
    "        # Handle other errors\n",
    "        print(f\"An error occurred: {error}\")"
   ]
  },
  {
   "cell_type": "code",
   "execution_count": 39,
   "metadata": {},
   "outputs": [
    {
     "name": "stdout",
     "output_type": "stream",
     "text": [
      "{'ResponseMetadata': {'RequestId': '037f80f1-adf0-433d-8ee3-d40597c62987', 'HTTPStatusCode': 202, 'HTTPHeaders': {'date': 'Mon, 16 Sep 2024 23:17:28 GMT', 'content-type': 'application/json', 'content-length': '119', 'connection': 'keep-alive', 'x-amzn-requestid': '037f80f1-adf0-433d-8ee3-d40597c62987', 'x-amz-apigw-id': 'eOJlZFbdoAMEUOA=', 'x-amzn-trace-id': 'Root=1-66e8bc88-78fb6c49165d923b1b311692'}, 'RetryAttempts': 0}, 'agentId': 'GDW42A7TH2', 'agentStatus': 'PREPARING', 'agentVersion': 'DRAFT', 'preparedAt': datetime.datetime(2024, 9, 16, 23, 17, 28, 764182, tzinfo=tzutc())}\n"
     ]
    }
   ],
   "source": [
    "response = bedrock_agent_client.prepare_agent(agentId = agent_id)\n",
    "\n",
    "print(response)"
   ]
  },
  {
   "cell_type": "code",
   "execution_count": 41,
   "metadata": {},
   "outputs": [
    {
     "data": {
      "text/plain": [
       "'TSTALIASID'"
      ]
     },
     "execution_count": 41,
     "metadata": {},
     "output_type": "execute_result"
    }
   ],
   "source": [
    "time.sleep(30)\n",
    "\n",
    "agent_alias_id = 'TSTALIASID'\n",
    "agent_alias_id"
   ]
  },
  {
   "cell_type": "code",
   "execution_count": 48,
   "metadata": {},
   "outputs": [
    {
     "name": "stderr",
     "output_type": "stream",
     "text": [
      "[2024-09-17 04:23:10,199] p43536 {651724208.py:14} INFO - None\n"
     ]
    },
    {
     "name": "stdout",
     "output_type": "stream",
     "text": [
      "{'ResponseMetadata': {'HTTPHeaders': {'connection': 'keep-alive',\n",
      "                                      'content-type': 'application/json',\n",
      "                                      'date': 'Mon, 16 Sep 2024 23:22:02 GMT',\n",
      "                                      'transfer-encoding': 'chunked',\n",
      "                                      'x-amz-bedrock-agent-session-id': 'a26048f5-7482-11ef-ac4b-f86dcc51c853',\n",
      "                                      'x-amzn-bedrock-agent-content-type': 'application/json',\n",
      "                                      'x-amzn-requestid': '6921ae51-ab63-4068-ba23-4da2aed7ddf7'},\n",
      "                      'HTTPStatusCode': 200,\n",
      "                      'RequestId': '6921ae51-ab63-4068-ba23-4da2aed7ddf7',\n",
      "                      'RetryAttempts': 0},\n",
      " 'completion': <botocore.eventstream.EventStream object at 0x000001D536921A10>,\n",
      " 'contentType': 'application/json',\n",
      " 'sessionId': 'a26048f5-7482-11ef-ac4b-f86dcc51c853'}\n"
     ]
    }
   ],
   "source": [
    "session_id:str = str(uuid.uuid1())\n",
    "enable_trace:bool = False\n",
    "end_session:bool = False\n",
    "\n",
    "agentResponse = bedrock_agent_runtime_client.invoke_agent(\n",
    "    inputText = \"How much vacation does employee_id 1 have available?\",\n",
    "    agentId = agent_id,\n",
    "    agentAliasId= agent_alias_id,\n",
    "    sessionId = session_id,\n",
    "    enableTrace = enable_trace,\n",
    "    endSession=end_session\n",
    ")\n",
    "\n",
    "logger.info(pprint.pprint(agentResponse))"
   ]
  },
  {
   "cell_type": "code",
   "execution_count": 49,
   "metadata": {},
   "outputs": [
    {
     "name": "stderr",
     "output_type": "stream",
     "text": [
      "[2024-09-17 04:23:14,918] p43536 {<timed exec>:6} INFO - Final answer ->\n",
      "Employee with id 1 has 7 vacation days available.\n"
     ]
    },
    {
     "name": "stdout",
     "output_type": "stream",
     "text": [
      "CPU times: total: 15.6 ms\n",
      "Wall time: 3.05 s\n"
     ]
    }
   ],
   "source": [
    "%%time\n",
    "event_stream = agentResponse['completion']\n",
    "try:\n",
    "    for event in event_stream:        \n",
    "        if 'chunk' in event:\n",
    "            data = event['chunk']['bytes']\n",
    "            logger.info(f\"Final answer ->\\n{data.decode('utf8')}\")\n",
    "            agent_answer = data.decode('utf8')\n",
    "            end_event_received = True\n",
    "            # End event indicates that the request finished successfully\n",
    "        elif 'trace' in event:\n",
    "            logger.info(json.dumps(event['trace'], indent=2))\n",
    "        else:\n",
    "            raise Exception(\"unexpected event.\", event)\n",
    "except Exception as e:\n",
    "    raise Exception(\"unexpected event.\", e)"
   ]
  },
  {
   "cell_type": "code",
   "execution_count": 47,
   "metadata": {},
   "outputs": [
    {
     "name": "stderr",
     "output_type": "stream",
     "text": [
      "[2024-09-17 04:22:56,443] p43536 {564666326.py:14} INFO - None\n"
     ]
    },
    {
     "name": "stdout",
     "output_type": "stream",
     "text": [
      "{'ResponseMetadata': {'HTTPHeaders': {'connection': 'keep-alive',\n",
      "                                      'content-type': 'application/json',\n",
      "                                      'date': 'Mon, 16 Sep 2024 23:21:48 GMT',\n",
      "                                      'transfer-encoding': 'chunked',\n",
      "                                      'x-amz-bedrock-agent-session-id': '9ab6c7cb-7482-11ef-a5f4-f86dcc51c853',\n",
      "                                      'x-amzn-bedrock-agent-content-type': 'application/json',\n",
      "                                      'x-amzn-requestid': 'd4a5e20f-ceb7-422b-85aa-53b3cde7b1f4'},\n",
      "                      'HTTPStatusCode': 200,\n",
      "                      'RequestId': 'd4a5e20f-ceb7-422b-85aa-53b3cde7b1f4',\n",
      "                      'RetryAttempts': 0},\n",
      " 'completion': <botocore.eventstream.EventStream object at 0x000001D5371A9B90>,\n",
      " 'contentType': 'application/json',\n",
      " 'sessionId': '9ab6c7cb-7482-11ef-a5f4-f86dcc51c853'}\n"
     ]
    }
   ],
   "source": [
    "session_id:str = str(uuid.uuid1())\n",
    "enable_trace:bool = False\n",
    "end_session:bool = False\n",
    "\n",
    "agentResponse = bedrock_agent_runtime_client.invoke_agent(\n",
    "    inputText = \"Please reserve a 1 day vocation for employee id 1 for June 1 2024?\",\n",
    "    agentId = agent_id,\n",
    "    agentAliasId= agent_alias_id,\n",
    "    sessionId = session_id,\n",
    "    enableTrace = enable_trace,\n",
    "    endSession=end_session\n",
    ")\n",
    "\n",
    "logger.info(pprint.pprint(agentResponse))"
   ]
  },
  {
   "cell_type": "code",
   "execution_count": 54,
   "metadata": {},
   "outputs": [
    {
     "name": "stderr",
     "output_type": "stream",
     "text": [
      "[2024-09-17 04:36:47,001] p43536 {2086953120.py:10} INFO - None\n"
     ]
    },
    {
     "name": "stdout",
     "output_type": "stream",
     "text": [
      "{'ResponseMetadata': {'HTTPHeaders': {'connection': 'keep-alive',\n",
      "                                      'content-type': 'application/json',\n",
      "                                      'date': 'Mon, 16 Sep 2024 23:35:39 GMT',\n",
      "                                      'transfer-encoding': 'chunked',\n",
      "                                      'x-amz-bedrock-agent-session-id': 'a26048f5-7482-11ef-ac4b-f86dcc51c853',\n",
      "                                      'x-amzn-bedrock-agent-content-type': 'application/json',\n",
      "                                      'x-amzn-requestid': 'fc59947a-237e-4d6c-bfd8-e3946897c951'},\n",
      "                      'HTTPStatusCode': 200,\n",
      "                      'RequestId': 'fc59947a-237e-4d6c-bfd8-e3946897c951',\n",
      "                      'RetryAttempts': 0},\n",
      " 'completion': <botocore.eventstream.EventStream object at 0x000001D537840650>,\n",
      " 'contentType': 'application/json',\n",
      " 'sessionId': 'a26048f5-7482-11ef-ac4b-f86dcc51c853'}\n"
     ]
    }
   ],
   "source": [
    "\n",
    "\n",
    "agentResponse = bedrock_agent_runtime_client.invoke_agent(\n",
    "    inputText = \"No I want to take last 3 months of the year off as vacation, from Oct 1 2024 to Dec 31 2024\",\n",
    "    agentId = agent_id,\n",
    "    agentAliasId = agent_alias_id,\n",
    "    sessionId = session_id,\n",
    "    enableTrace = enable_trace,\n",
    "    endSession = end_session\n",
    ")\n",
    "\n",
    "logger.info(pprint.pprint(agentResponse))"
   ]
  },
  {
   "cell_type": "code",
   "execution_count": 55,
   "metadata": {},
   "outputs": [
    {
     "name": "stderr",
     "output_type": "stream",
     "text": [
      "[2024-09-17 04:37:25,007] p43536 {<timed exec>:6} INFO - Final answer ->\n",
      "Unfortunately, you do not have enough available vacation days to take the requested 3 month vacation from October 1, 2024 to December 31, 2024. You currently only have 8 vacation days available. Please adjust your vacation request to fit within your available vacation days.\n"
     ]
    },
    {
     "name": "stdout",
     "output_type": "stream",
     "text": [
      "CPU times: total: 0 ns\n",
      "Wall time: 999 µs\n"
     ]
    }
   ],
   "source": [
    "%%time\n",
    "event_stream = agentResponse['completion']\n",
    "try:\n",
    "    for event in event_stream:        \n",
    "        if 'chunk' in event:\n",
    "            data = event['chunk']['bytes']\n",
    "            logger.info(f\"Final answer ->\\n{data.decode('utf8')}\")\n",
    "            agent_answer = data.decode('utf8')\n",
    "            end_event_received = True\n",
    "            # End event indicates that the request finished successfully\n",
    "        elif 'trace' in event:\n",
    "            logger.info(json.dumps(event['trace'], indent=2))\n",
    "        else:\n",
    "            raise Exception(\"unexpected event.\", event)\n",
    "except Exception as e:\n",
    "    raise Exception(\"unexpected event.\", e)"
   ]
  },
  {
   "cell_type": "code",
   "execution_count": 60,
   "metadata": {},
   "outputs": [],
   "source": [
    "def simple_agent_invoke(input_text, agent_id, agent_alias_id, session_id=None, enable_trace=False, end_session=False):\n",
    "    agentResponse = bedrock_agent_runtime_client.invoke_agent(\n",
    "        inputText=input_text,\n",
    "        agentId=agent_id,\n",
    "        agentAliasId = agent_alias_id,\n",
    "        sessionId = session_id,\n",
    "        enableTrace = enable_trace,\n",
    "        endSession = end_session\n",
    "    )\n",
    "\n",
    "    #logger.info(pprint.pprint(agentResponse))\n",
    "\n",
    "    event_stream = agentResponse['completion']\n",
    "    try:\n",
    "        for event in event_stream:        \n",
    "            if 'chunk' in event:\n",
    "                data = event['chunk']['bytes']\n",
    "                logger.info(f\"Final answer ->\\n{data.decode('utf8')}\")\n",
    "                agent_answer = data.decode('utf8')\n",
    "                end_event_received = True\n",
    "                # End event indicates that the request finished successfully\n",
    "            elif 'trace' in event:\n",
    "                logger.info(json.dumps(event['trace'], indent=2))\n",
    "            else:\n",
    "                raise Exception(\"unexpected event.\", event)\n",
    "    except Exception as e:\n",
    "        raise Exception(\"unexpected event.\", e)\n",
    "    \n",
    "\n"
   ]
  },
  {
   "cell_type": "code",
   "execution_count": 61,
   "metadata": {},
   "outputs": [
    {
     "name": "stderr",
     "output_type": "stream",
     "text": [
      "[2024-09-17 04:42:14,313] p43536 {3795785164.py:18} INFO - Final answer ->\n",
      "Employee with id 2 still has 17 vacation days available.\n"
     ]
    }
   ],
   "source": [
    "simple_agent_invoke(\"how much time off does employee 2 have?\", agent_id, agent_alias_id, session_id)"
   ]
  },
  {
   "cell_type": "code",
   "execution_count": 65,
   "metadata": {},
   "outputs": [],
   "source": [
    "# cleanup\n",
    "\n",
    "action_group_id = rtAgentActionGroup['actionGroupId']\n",
    "action_group_name = rtAgentActionGroup['actionGroupName']\n",
    "\n",
    "response = bedrock_agent_client.update_agent_action_group(\n",
    "    agentId=agent_id,\n",
    "    agentVersion='DRAFT',\n",
    "    actionGroupId= action_group_id,\n",
    "    actionGroupName=action_group_name,\n",
    "    actionGroupExecutor={\n",
    "        'lambda': lambdaARN\n",
    "    },\n",
    "    functionSchema={\n",
    "        'functions': agent_functions\n",
    "    },\n",
    "    actionGroupState='DISABLED',\n",
    ")\n",
    "\n",
    "action_group_deletion = bedrock_agent_client.delete_agent_action_group(\n",
    "    agentId=agent_id,\n",
    "    agentVersion='DRAFT',\n",
    "    actionGroupId= action_group_id\n",
    ")"
   ]
  },
  {
   "cell_type": "code",
   "execution_count": 66,
   "metadata": {},
   "outputs": [],
   "source": [
    "agent_deletion = bedrock_agent_client.delete_agent(\n",
    "    agentId=agent_id\n",
    ")"
   ]
  },
  {
   "cell_type": "code",
   "execution_count": 67,
   "metadata": {},
   "outputs": [
    {
     "data": {
      "text/plain": [
       "{'ResponseMetadata': {'RequestId': '4bd5300a-d6a1-4bde-8f76-cf522ccb6834',\n",
       "  'HTTPStatusCode': 204,\n",
       "  'HTTPHeaders': {'date': 'Mon, 16 Sep 2024 23:45:08 GMT',\n",
       "   'content-type': 'application/json',\n",
       "   'connection': 'keep-alive',\n",
       "   'x-amzn-requestid': '4bd5300a-d6a1-4bde-8f76-cf522ccb6834'},\n",
       "  'RetryAttempts': 0}}"
      ]
     },
     "execution_count": 67,
     "metadata": {},
     "output_type": "execute_result"
    }
   ],
   "source": [
    "# Delete Lambda function\n",
    "lambda_client.delete_function(\n",
    "    FunctionName=lambda_function_name\n",
    ")"
   ]
  },
  {
   "cell_type": "code",
   "execution_count": 79,
   "metadata": {},
   "outputs": [
    {
     "name": "stdout",
     "output_type": "stream",
     "text": [
      "RoleName: RT-AmazonBedrockExecutionRoleForAgents_RT-hr-assistant-func-def, PolicyArn=arn:aws:iam::452982853365:policy/RT-hr-assistant-func-def-ba-RT-us-east-1-452982853365' aleady deleted\n"
     ]
    }
   ],
   "source": [
    "# Delete IAM Roles and policies\n",
    "\n",
    "import botocore.exceptions\n",
    "\n",
    "\n",
    "try:\n",
    "    for policy in [agent_bedrock_allow_policy_name]:\n",
    "        iam_client.detach_role_policy(RoleName=agent_role_name, PolicyArn=f'arn:aws:iam::{account_id}:policy/{policy}')\n",
    "except iam_client.exceptions.NoSuchEntityException:\n",
    "     print(f\"RoleName: {agent_role_name}, PolicyArn=arn:aws:iam::{account_id}:policy/{policy}' aleady deleted\")\n",
    "\n"
   ]
  },
  {
   "cell_type": "code",
   "execution_count": 80,
   "metadata": {},
   "outputs": [
    {
     "name": "stdout",
     "output_type": "stream",
     "text": [
      "RoleName: RT-hr-assistant-func-def-lambda-role-RT-us-east-1-452982853365, PolicyArn='arn:aws:iam::aws:policy/service-role/AWSLambdaBasicExecutionRole' aleady deleted\n"
     ]
    }
   ],
   "source": [
    "try:\n",
    "\n",
    "    iam_client.detach_role_policy(RoleName=lambda_function_role, PolicyArn='arn:aws:iam::aws:policy/service-role/AWSLambdaBasicExecutionRole')\n",
    "except iam_client.exceptions.NoSuchEntityException:\n",
    "     print(f\"RoleName: {lambda_function_role}, PolicyArn='arn:aws:iam::aws:policy/service-role/AWSLambdaBasicExecutionRole' aleady deleted\")\n"
   ]
  },
  {
   "cell_type": "code",
   "execution_count": 82,
   "metadata": {},
   "outputs": [
    {
     "name": "stdout",
     "output_type": "stream",
     "text": [
      "Agent Role Name: RT-AmazonBedrockExecutionRoleForAgents_RT-hr-assistant-func-def, Lambda role name: RT-hr-assistant-func-def-lambda-role-RT-us-east-1-452982853365' aleady deleted\n"
     ]
    }
   ],
   "source": [
    "try:\n",
    "    for role_name in [agent_role_name, lambda_function_role]:\n",
    "        iam_client.delete_role(\n",
    "            RoleName=role_name\n",
    "        )\n",
    "except iam_client.exceptions.NoSuchEntityException:\n",
    "     print(f\"Agent Role Name: {agent_role_name}, Lambda role name: {lambda_function_role}' aleady deleted\")\n"
   ]
  },
  {
   "cell_type": "code",
   "execution_count": 91,
   "metadata": {},
   "outputs": [],
   "source": [
    "for policy in [agent_bedrock_policy]:\n",
    "\n",
    "    try:\n",
    "        # List policies to check if the policy exists\n",
    "        policyVersions=[]\n",
    "        hasMorePolicyVersions = True\n",
    "        marker = ''\n",
    "        while(hasMorePolicyVersions):\n",
    "            response = {}\n",
    "            if len(marker) > 0:\n",
    "                response = iam_client.list_policy_versions(PolicyArn=agent_bedrock_policy['Arn'], Marker=marker)\n",
    "            else:\n",
    "                response = iam_client.list_policy_versions(PolicyArn=agent_bedrock_policy['Arn'])\n",
    "\n",
    "            policyVersions.extend(response['Versions'])\n",
    "            \n",
    "            # Check if more pages are available\n",
    "            if not response.get('IsTruncated'):\n",
    "                hasMorePolicyVersions = False\n",
    "            else:\n",
    "                marker = response['Marker']\n",
    "                    \n",
    "        for policyVersion in policyVersions:\n",
    "            if policyVersion['VersionId'] != 'v2':\n",
    "                iam_client.delete_policy_version(PolicyArn=agent_bedrock_policy['Arn'], VersionId=policyVersion['VersionId'])\n",
    "        \n",
    "        iam_client.delete_policy(PolicyArn=agent_bedrock_policy['Arn'])\n",
    "\n",
    "    except Exception as e:\n",
    "     print(f\"Exception: {e}\")\n",
    "   \n",
    "\n",
    "\n",
    "    "
   ]
  }
 ],
 "metadata": {
  "kernelspec": {
   "display_name": "Python 3",
   "language": "python",
   "name": "python3"
  },
  "language_info": {
   "codemirror_mode": {
    "name": "ipython",
    "version": 3
   },
   "file_extension": ".py",
   "mimetype": "text/x-python",
   "name": "python",
   "nbconvert_exporter": "python",
   "pygments_lexer": "ipython3",
   "version": "3.11.7"
  }
 },
 "nbformat": 4,
 "nbformat_minor": 2
}
